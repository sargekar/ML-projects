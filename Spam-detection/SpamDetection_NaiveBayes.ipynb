{
  "nbformat": 4,
  "nbformat_minor": 0,
  "metadata": {
    "colab": {
      "provenance": []
    },
    "kernelspec": {
      "name": "python3",
      "display_name": "Python 3"
    },
    "language_info": {
      "name": "python"
    }
  },
  "cells": [
    {
      "cell_type": "code",
      "source": [
        "!pip install pyspark boto\n"
      ],
      "metadata": {
        "colab": {
          "base_uri": "https://localhost:8080/"
        },
        "id": "x0Vcvj77O_6J",
        "outputId": "e8dfab63-7878-4647-f56c-951b18826e64"
      },
      "execution_count": null,
      "outputs": [
        {
          "output_type": "stream",
          "name": "stdout",
          "text": [
            "Requirement already satisfied: pyspark in /usr/local/lib/python3.10/dist-packages (3.5.1)\n",
            "Requirement already satisfied: boto in /usr/local/lib/python3.10/dist-packages (2.49.0)\n",
            "Requirement already satisfied: py4j==0.10.9.7 in /usr/local/lib/python3.10/dist-packages (from pyspark) (0.10.9.7)\n"
          ]
        }
      ]
    },
    {
      "cell_type": "code",
      "source": [
        "import boto3\n",
        "\n",
        "aws_access_key_id = '########'\n",
        "aws_secret_access_key = '########'\n",
        "\n",
        "# Create a session using your credentials\n",
        "session = boto3.Session(\n",
        "    aws_access_key_id=aws_access_key_id,\n",
        "    aws_secret_access_key=aws_secret_access_key\n",
        ")\n",
        "\n",
        "# Create S3 resource from the session\n",
        "s3 = session.resource('s3')\n",
        "\n",
        "# Access the bucket\n",
        "bucket = s3.Bucket('spamemail')\n",
        "\n",
        "# List objects in the bucket\n",
        "for obj in bucket.objects.all():\n",
        "    print(obj.key)\n"
      ],
      "metadata": {
        "colab": {
          "base_uri": "https://localhost:8080/"
        },
        "id": "GegdElQ0aokK",
        "outputId": "0e2109b8-808f-4d49-f29e-39c5a1de7b1f"
      },
      "execution_count": null,
      "outputs": [
        {
          "output_type": "stream",
          "name": "stdout",
          "text": [
            "spambase.data\n"
          ]
        }
      ]
    },
    {
      "cell_type": "code",
      "source": [
        "from io import StringIO\n",
        "\n",
        "# Set up the S3 client\n",
        "s3 = boto3.client('s3', aws_access_key_id='########', aws_secret_access_key='########')\n",
        "\n",
        "# Specify the bucket and file key\n",
        "bucket_name = 'spamemail'\n",
        "file_key = 'spambase.data'\n",
        "\n",
        "# Get the object from the bucket using the client\n",
        "obj = s3.get_object(Bucket=bucket_name, Key=file_key)\n",
        "data = obj['Body'].read().decode('utf-8')\n",
        "\n",
        "# Load the data into a pandas DataFrame, assuming comma as delimiter\n",
        "df_1 = pd.read_csv(StringIO(data), delimiter=',', names=[f\"feature_{i}\" for i in range(57)] + [\"label\"])\n",
        "\n",
        "# Convert Pandas DataFrame to Spark DataFrame\n",
        "\n",
        "print(df.head())"
      ],
      "metadata": {
        "colab": {
          "base_uri": "https://localhost:8080/"
        },
        "id": "kKmsXzw6bovb",
        "outputId": "18b08181-44a8-4dab-8b69-6455b79d17f1"
      },
      "execution_count": null,
      "outputs": [
        {
          "output_type": "stream",
          "name": "stdout",
          "text": [
            "Row(feature_0=0.0, feature_1=0.64, feature_2=0.64, feature_3=0.0, feature_4=0.32, feature_5=0.0, feature_6=0.0, feature_7=0.0, feature_8=0.0, feature_9=0.0, feature_10=0.0, feature_11=0.64, feature_12=0.0, feature_13=0.0, feature_14=0.0, feature_15=0.32, feature_16=0.0, feature_17=1.29, feature_18=1.93, feature_19=0.0, feature_20=0.96, feature_21=0.0, feature_22=0.0, feature_23=0.0, feature_24=0.0, feature_25=0.0, feature_26=0.0, feature_27=0.0, feature_28=0.0, feature_29=0.0, feature_30=0.0, feature_31=0.0, feature_32=0.0, feature_33=0.0, feature_34=0.0, feature_35=0.0, feature_36=0.0, feature_37=0.0, feature_38=0.0, feature_39=0.0, feature_40=0.0, feature_41=0.0, feature_42=0.0, feature_43=0.0, feature_44=0.0, feature_45=0.0, feature_46=0.0, feature_47=0.0, feature_48=0.0, feature_49=0.0, feature_50=0.0, feature_51=0.778, feature_52=0.0, feature_53=0.0, feature_54=3.756, feature_55=61, feature_56=278, label=1)\n"
          ]
        }
      ]
    },
    {
      "cell_type": "code",
      "source": [
        "print(df.columns)"
      ],
      "metadata": {
        "colab": {
          "base_uri": "https://localhost:8080/"
        },
        "id": "R16tTEd0dljr",
        "outputId": "12e18d39-2f7a-473b-9800-3cbdc058a1d2"
      },
      "execution_count": null,
      "outputs": [
        {
          "output_type": "stream",
          "name": "stdout",
          "text": [
            "['feature_0', 'feature_1', 'feature_2', 'feature_3', 'feature_4', 'feature_5', 'feature_6', 'feature_7', 'feature_8', 'feature_9', 'feature_10', 'feature_11', 'feature_12', 'feature_13', 'feature_14', 'feature_15', 'feature_16', 'feature_17', 'feature_18', 'feature_19', 'feature_20', 'feature_21', 'feature_22', 'feature_23', 'feature_24', 'feature_25', 'feature_26', 'feature_27', 'feature_28', 'feature_29', 'feature_30', 'feature_31', 'feature_32', 'feature_33', 'feature_34', 'feature_35', 'feature_36', 'feature_37', 'feature_38', 'feature_39', 'feature_40', 'feature_41', 'feature_42', 'feature_43', 'feature_44', 'feature_45', 'feature_46', 'feature_47', 'feature_48', 'feature_49', 'feature_50', 'feature_51', 'feature_52', 'feature_53', 'feature_54', 'feature_55', 'feature_56', 'label']\n"
          ]
        }
      ]
    },
    {
      "cell_type": "code",
      "execution_count": null,
      "metadata": {
        "colab": {
          "base_uri": "https://localhost:8080/"
        },
        "id": "aaWNywn-9C7Z",
        "outputId": "4a7c5cde-1d14-489d-ec16-8db78f3c5e0e"
      },
      "outputs": [
        {
          "output_type": "stream",
          "name": "stdout",
          "text": [
            "Requirement already satisfied: pyspark in /usr/local/lib/python3.10/dist-packages (3.5.1)\n",
            "Requirement already satisfied: py4j==0.10.9.7 in /usr/local/lib/python3.10/dist-packages (from pyspark) (0.10.9.7)\n"
          ]
        }
      ],
      "source": [
        "!pip install pyspark"
      ]
    },
    {
      "cell_type": "code",
      "source": [],
      "metadata": {
        "id": "3ubVdiQk3Ssm"
      },
      "execution_count": null,
      "outputs": []
    },
    {
      "cell_type": "code",
      "source": [
        "!pip install nltk"
      ],
      "metadata": {
        "colab": {
          "base_uri": "https://localhost:8080/"
        },
        "id": "sHbMqyAeNg9M",
        "outputId": "913979d5-e788-4644-f521-4a5338952084"
      },
      "execution_count": null,
      "outputs": [
        {
          "output_type": "stream",
          "name": "stdout",
          "text": [
            "Requirement already satisfied: nltk in /usr/local/lib/python3.10/dist-packages (3.8.1)\n",
            "Requirement already satisfied: click in /usr/local/lib/python3.10/dist-packages (from nltk) (8.1.7)\n",
            "Requirement already satisfied: joblib in /usr/local/lib/python3.10/dist-packages (from nltk) (1.4.0)\n",
            "Requirement already satisfied: regex>=2021.8.3 in /usr/local/lib/python3.10/dist-packages (from nltk) (2023.12.25)\n",
            "Requirement already satisfied: tqdm in /usr/local/lib/python3.10/dist-packages (from nltk) (4.66.2)\n"
          ]
        }
      ]
    },
    {
      "cell_type": "code",
      "source": [
        "import pandas as pd\n",
        "import numpy as np\n",
        "import matplotlib.pyplot as plt\n",
        "from pyspark.sql.types import StructType, StructField, DoubleType, IntegerType\n",
        "from pyspark.ml.feature import VectorAssembler, StandardScaler\n",
        "from pyspark.ml.classification import NaiveBayes\n",
        "from pyspark.ml.evaluation import MulticlassClassificationEvaluator\n",
        "from pyspark.ml import Pipeline\n"
      ],
      "metadata": {
        "id": "Mp8ba9WRN-0t"
      },
      "execution_count": null,
      "outputs": []
    },
    {
      "cell_type": "code",
      "source": [
        "from pyspark.sql import SparkSession\n",
        "\n",
        "# Start a Spark session\n",
        "spark = SparkSession.builder \\\n",
        "    .master(\"local\") \\\n",
        "    .appName(\"SpamBayes\") \\\n",
        "    .getOrCreate()\n"
      ],
      "metadata": {
        "id": "U4gboqnZOr0p"
      },
      "execution_count": null,
      "outputs": []
    },
    {
      "cell_type": "code",
      "source": [
        "schema = StructType([\n",
        "    *([StructField(f\"feature_{i}\", DoubleType(), True) for i in range(57)]) +\n",
        "    [StructField(\"label\", IntegerType(), True)]\n",
        "])\n",
        "\n",
        "# Load the dataset\n",
        "# df = spark.read.csv(\"/spambase.data\", schema=schema, header=False)\n",
        "\n",
        "df = spark.createDataFrame(df_1)\n",
        "df.show(5)"
      ],
      "metadata": {
        "colab": {
          "base_uri": "https://localhost:8080/"
        },
        "id": "tY5pxqMkOUiy",
        "outputId": "11737fd3-3c2d-42bd-b4ce-5976871638a5"
      },
      "execution_count": null,
      "outputs": [
        {
          "output_type": "stream",
          "name": "stdout",
          "text": [
            "+---------+---------+---------+---------+---------+---------+---------+---------+---------+---------+----------+----------+----------+----------+----------+----------+----------+----------+----------+----------+----------+----------+----------+----------+----------+----------+----------+----------+----------+----------+----------+----------+----------+----------+----------+----------+----------+----------+----------+----------+----------+----------+----------+----------+----------+----------+----------+----------+----------+----------+----------+----------+----------+----------+----------+----------+----------+-----+\n",
            "|feature_0|feature_1|feature_2|feature_3|feature_4|feature_5|feature_6|feature_7|feature_8|feature_9|feature_10|feature_11|feature_12|feature_13|feature_14|feature_15|feature_16|feature_17|feature_18|feature_19|feature_20|feature_21|feature_22|feature_23|feature_24|feature_25|feature_26|feature_27|feature_28|feature_29|feature_30|feature_31|feature_32|feature_33|feature_34|feature_35|feature_36|feature_37|feature_38|feature_39|feature_40|feature_41|feature_42|feature_43|feature_44|feature_45|feature_46|feature_47|feature_48|feature_49|feature_50|feature_51|feature_52|feature_53|feature_54|feature_55|feature_56|label|\n",
            "+---------+---------+---------+---------+---------+---------+---------+---------+---------+---------+----------+----------+----------+----------+----------+----------+----------+----------+----------+----------+----------+----------+----------+----------+----------+----------+----------+----------+----------+----------+----------+----------+----------+----------+----------+----------+----------+----------+----------+----------+----------+----------+----------+----------+----------+----------+----------+----------+----------+----------+----------+----------+----------+----------+----------+----------+----------+-----+\n",
            "|      0.0|     0.64|     0.64|      0.0|     0.32|      0.0|      0.0|      0.0|      0.0|      0.0|       0.0|      0.64|       0.0|       0.0|       0.0|      0.32|       0.0|      1.29|      1.93|       0.0|      0.96|       0.0|       0.0|       0.0|       0.0|       0.0|       0.0|       0.0|       0.0|       0.0|       0.0|       0.0|       0.0|       0.0|       0.0|       0.0|       0.0|       0.0|       0.0|       0.0|       0.0|       0.0|       0.0|       0.0|       0.0|       0.0|       0.0|       0.0|       0.0|       0.0|       0.0|     0.778|       0.0|       0.0|     3.756|        61|       278|    1|\n",
            "|     0.21|     0.28|      0.5|      0.0|     0.14|     0.28|     0.21|     0.07|      0.0|     0.94|      0.21|      0.79|      0.65|      0.21|      0.14|      0.14|      0.07|      0.28|      3.47|       0.0|      1.59|       0.0|      0.43|      0.43|       0.0|       0.0|       0.0|       0.0|       0.0|       0.0|       0.0|       0.0|       0.0|       0.0|       0.0|       0.0|      0.07|       0.0|       0.0|       0.0|       0.0|       0.0|       0.0|       0.0|       0.0|       0.0|       0.0|       0.0|       0.0|     0.132|       0.0|     0.372|      0.18|     0.048|     5.114|       101|      1028|    1|\n",
            "|     0.06|      0.0|     0.71|      0.0|     1.23|     0.19|     0.19|     0.12|     0.64|     0.25|      0.38|      0.45|      0.12|       0.0|      1.75|      0.06|      0.06|      1.03|      1.36|      0.32|      0.51|       0.0|      1.16|      0.06|       0.0|       0.0|       0.0|       0.0|       0.0|       0.0|       0.0|       0.0|       0.0|       0.0|       0.0|       0.0|       0.0|       0.0|       0.0|      0.06|       0.0|       0.0|      0.12|       0.0|      0.06|      0.06|       0.0|       0.0|      0.01|     0.143|       0.0|     0.276|     0.184|      0.01|     9.821|       485|      2259|    1|\n",
            "|      0.0|      0.0|      0.0|      0.0|     0.63|      0.0|     0.31|     0.63|     0.31|     0.63|      0.31|      0.31|      0.31|       0.0|       0.0|      0.31|       0.0|       0.0|      3.18|       0.0|      0.31|       0.0|       0.0|       0.0|       0.0|       0.0|       0.0|       0.0|       0.0|       0.0|       0.0|       0.0|       0.0|       0.0|       0.0|       0.0|       0.0|       0.0|       0.0|       0.0|       0.0|       0.0|       0.0|       0.0|       0.0|       0.0|       0.0|       0.0|       0.0|     0.137|       0.0|     0.137|       0.0|       0.0|     3.537|        40|       191|    1|\n",
            "|      0.0|      0.0|      0.0|      0.0|     0.63|      0.0|     0.31|     0.63|     0.31|     0.63|      0.31|      0.31|      0.31|       0.0|       0.0|      0.31|       0.0|       0.0|      3.18|       0.0|      0.31|       0.0|       0.0|       0.0|       0.0|       0.0|       0.0|       0.0|       0.0|       0.0|       0.0|       0.0|       0.0|       0.0|       0.0|       0.0|       0.0|       0.0|       0.0|       0.0|       0.0|       0.0|       0.0|       0.0|       0.0|       0.0|       0.0|       0.0|       0.0|     0.135|       0.0|     0.135|       0.0|       0.0|     3.537|        40|       191|    1|\n",
            "+---------+---------+---------+---------+---------+---------+---------+---------+---------+---------+----------+----------+----------+----------+----------+----------+----------+----------+----------+----------+----------+----------+----------+----------+----------+----------+----------+----------+----------+----------+----------+----------+----------+----------+----------+----------+----------+----------+----------+----------+----------+----------+----------+----------+----------+----------+----------+----------+----------+----------+----------+----------+----------+----------+----------+----------+----------+-----+\n",
            "only showing top 5 rows\n",
            "\n"
          ]
        }
      ]
    },
    {
      "cell_type": "code",
      "source": [
        "assembler = VectorAssembler(inputCols=[f\"feature_{i}\" for i in range(57)], outputCol=\"features_vector\")"
      ],
      "metadata": {
        "id": "ncknkZiePoZl"
      },
      "execution_count": null,
      "outputs": []
    },
    {
      "cell_type": "code",
      "source": [
        "# Scale features\n",
        "scaler = StandardScaler(inputCol=\"features_vector\", outputCol=\"features\", withStd=True, withMean=False)\n"
      ],
      "metadata": {
        "id": "3XqH-sKaP1fn"
      },
      "execution_count": null,
      "outputs": []
    },
    {
      "cell_type": "code",
      "source": [
        "# Split the data into training and test sets (70% training, 30% test)\n",
        "train_data, test_data = df.randomSplit([0.70, 0.3], seed=42)\n",
        "from pyspark.sql.functions import rand\n",
        "train_data.orderBy(rand()).show(10)\n"
      ],
      "metadata": {
        "id": "XveF-OULP2_H",
        "colab": {
          "base_uri": "https://localhost:8080/"
        },
        "outputId": "7556a82e-18a5-4cf9-eb2c-715d1330af5a"
      },
      "execution_count": null,
      "outputs": [
        {
          "output_type": "stream",
          "name": "stdout",
          "text": [
            "+---------+---------+---------+---------+---------+---------+---------+---------+---------+---------+----------+----------+----------+----------+----------+----------+----------+----------+----------+----------+----------+----------+----------+----------+----------+----------+----------+----------+----------+----------+----------+----------+----------+----------+----------+----------+----------+----------+----------+----------+----------+----------+----------+----------+----------+----------+----------+----------+----------+----------+----------+----------+----------+----------+----------+----------+----------+-----+\n",
            "|feature_0|feature_1|feature_2|feature_3|feature_4|feature_5|feature_6|feature_7|feature_8|feature_9|feature_10|feature_11|feature_12|feature_13|feature_14|feature_15|feature_16|feature_17|feature_18|feature_19|feature_20|feature_21|feature_22|feature_23|feature_24|feature_25|feature_26|feature_27|feature_28|feature_29|feature_30|feature_31|feature_32|feature_33|feature_34|feature_35|feature_36|feature_37|feature_38|feature_39|feature_40|feature_41|feature_42|feature_43|feature_44|feature_45|feature_46|feature_47|feature_48|feature_49|feature_50|feature_51|feature_52|feature_53|feature_54|feature_55|feature_56|label|\n",
            "+---------+---------+---------+---------+---------+---------+---------+---------+---------+---------+----------+----------+----------+----------+----------+----------+----------+----------+----------+----------+----------+----------+----------+----------+----------+----------+----------+----------+----------+----------+----------+----------+----------+----------+----------+----------+----------+----------+----------+----------+----------+----------+----------+----------+----------+----------+----------+----------+----------+----------+----------+----------+----------+----------+----------+----------+----------+-----+\n",
            "|      0.0|     0.26|      0.0|      0.0|     0.26|      0.0|      0.0|      0.0|      0.0|     1.88|       0.0|       0.0|       0.0|       0.0|       0.0|       0.0|       0.0|       0.0|      0.26|       0.0|      0.26|       0.0|       0.0|       0.0|       0.0|       0.0|       0.0|       0.0|       0.0|       0.0|       0.0|       0.0|       0.0|       0.0|       0.0|       0.0|       0.0|       0.0|       0.0|       0.0|       0.0|       0.0|       0.0|       0.0|       0.0|       0.0|       0.0|       0.0|     0.407|     0.067|       0.0|     0.033|       0.0|       0.0|     5.009|        55|       506|    1|\n",
            "|      0.4|     0.48|     0.37|      0.0|     0.14|     0.14|     0.03|     0.07|     0.55|     0.66|      0.29|      0.89|      0.44|      1.04|      0.03|      0.26|      0.37|      0.07|      3.16|       0.0|      1.41|       0.0|      0.48|      0.59|       0.0|       0.0|       0.0|       0.0|       0.0|       0.0|       0.0|       0.0|      0.03|       0.0|       0.0|       0.0|       0.0|      0.03|       0.0|       0.0|       0.0|       0.0|       0.0|       0.0|      0.07|       0.0|       0.0|       0.0|       0.0|     0.082|       0.0|     0.433|     0.529|     0.114|     6.482|       140|      2379|    1|\n",
            "|      0.0|      0.0|      0.0|      0.0|      0.0|      0.0|      0.0|      0.0|      0.0|      0.0|       0.0|       0.0|       0.0|       0.0|       0.0|       0.0|       0.0|       0.0|       0.0|       0.0|       0.0|       0.0|       0.0|       0.0|       0.0|       0.0|      20.0|       0.0|       0.0|       0.0|       0.0|       0.0|       0.0|       0.0|       0.0|       0.0|       0.0|       0.0|       0.0|       0.0|       0.0|       0.0|       0.0|       0.0|       0.0|       0.0|       0.0|       0.0|       0.0|       0.0|       0.0|       0.0|       0.0|       0.0|       1.0|         1|         5|    0|\n",
            "|      0.0|      0.0|      0.0|      0.0|      0.0|      0.0|      0.0|      0.0|      0.0|      0.0|       0.0|      0.68|       0.0|       0.0|       0.0|       0.0|      0.68|       0.0|      0.68|       0.0|       0.0|       0.0|       0.0|       0.0|       0.0|       0.0|       0.0|       0.0|       0.0|       0.0|       0.0|       0.0|       0.0|       0.0|       0.0|      2.04|       0.0|       0.0|       0.0|       0.0|       0.0|       0.0|       0.0|       3.4|       0.0|       0.0|       0.0|      0.68|       0.0|     0.086|       0.0|       0.0|       0.0|       0.0|      1.41|         5|        79|    0|\n",
            "|      0.0|      0.0|      0.0|      0.0|     2.22|      0.0|      0.0|      0.0|      0.0|      0.0|       0.0|      3.33|       0.0|       0.0|       0.0|       0.0|       0.0|       0.0|      1.11|       0.0|      1.11|       0.0|       0.0|       0.0|      1.11|      1.11|       0.0|       0.0|      1.11|       0.0|       0.0|       0.0|       0.0|       0.0|       0.0|       0.0|       0.0|       0.0|       0.0|       0.0|       0.0|       0.0|       0.0|       0.0|       0.0|       0.0|       0.0|       0.0|       0.0|       0.0|       0.0|       0.0|       0.0|       0.0|       1.0|         1|        22|    0|\n",
            "|      0.0|      0.0|     0.83|      0.0|     1.66|     0.41|      0.0|      0.0|      0.0|      0.0|       0.0|      0.41|       0.0|       0.0|       0.0|      0.41|       0.0|       0.0|      2.08|       0.0|      4.16|       0.0|       0.0|       0.0|       0.0|       0.0|       0.0|       0.0|       0.0|       0.0|       0.0|       0.0|       0.0|       0.0|       0.0|       0.0|       0.0|       0.0|       0.0|       0.0|       0.0|       0.0|       0.0|       0.0|       0.0|       0.0|       0.0|       0.0|       0.0|     0.218|       0.0|       0.0|       0.0|       0.0|      2.35|        12|       134|    1|\n",
            "|      0.0|      0.0|      0.0|      0.0|      0.0|      0.0|      0.0|      0.0|      0.0|      0.0|       0.0|      1.04|       0.0|       0.0|       0.0|       0.0|       0.0|       0.0|       5.2|       0.0|       0.0|       0.0|       0.0|       0.0|       0.0|       0.0|      1.04|       0.0|       0.0|       0.0|       0.0|       0.0|       0.0|       0.0|       0.0|       0.0|       0.0|       0.0|       0.0|       0.0|       0.0|       0.0|       0.0|       0.0|       0.0|       0.0|       0.0|       0.0|       0.0|     0.195|       0.0|       0.0|       0.0|       0.0|     1.071|         2|        15|    0|\n",
            "|      0.0|      0.0|     1.58|      0.0|      0.0|      0.0|      0.0|      0.0|      0.0|      0.0|       0.0|       0.0|       0.0|       0.0|       0.0|       0.0|       0.0|       0.0|       0.0|       0.0|       0.0|       0.0|       0.0|       0.0|       0.0|       0.0|       0.0|       0.0|       0.0|       0.0|       0.0|       0.0|       0.0|       0.0|       0.0|      1.58|       0.0|       0.0|      1.58|       0.0|       0.0|       0.0|       0.0|       0.0|       0.0|       0.0|       0.0|       0.0|       0.0|       0.0|       0.0|       0.0|       0.0|       0.0|     1.464|         7|        41|    0|\n",
            "|     0.05|      0.3|      0.4|      0.0|      0.1|     0.05|      0.0|     0.05|      0.1|      0.0|       0.0|       0.3|       0.2|       0.0|      0.05|       0.0|       0.0|       0.5|      1.55|       0.3|      0.75|       0.0|      0.15|       0.2|      0.05|      0.05|       0.0|       0.0|       0.0|       0.0|       0.0|       0.0|       0.0|       0.0|       0.0|       0.0|       0.0|       0.0|       0.0|       0.0|       0.0|       0.0|       0.0|      0.05|      0.05|       0.0|       0.0|       0.0|       0.0|     0.036|       0.0|     0.054|     0.118|       0.0|     2.379|        96|       583|    1|\n",
            "|      0.0|      0.0|      0.0|      0.0|      0.0|      0.0|      0.0|      0.0|      0.0|      0.0|       0.0|       0.0|       0.0|       0.0|       0.0|       0.0|       0.0|       0.0|      3.17|       0.0|       0.0|       0.0|       0.0|       0.0|      3.17|       0.0|       0.0|       0.0|       0.0|       0.0|       0.0|       0.0|       0.0|       0.0|       0.0|       0.0|       0.0|       0.0|      1.58|       0.0|       0.0|       0.0|       0.0|       0.0|      1.58|      1.58|       0.0|       0.0|       0.0|       0.0|       0.0|       0.0|       0.0|       0.0|     2.071|        14|        29|    0|\n",
            "+---------+---------+---------+---------+---------+---------+---------+---------+---------+---------+----------+----------+----------+----------+----------+----------+----------+----------+----------+----------+----------+----------+----------+----------+----------+----------+----------+----------+----------+----------+----------+----------+----------+----------+----------+----------+----------+----------+----------+----------+----------+----------+----------+----------+----------+----------+----------+----------+----------+----------+----------+----------+----------+----------+----------+----------+----------+-----+\n",
            "only showing top 10 rows\n",
            "\n"
          ]
        }
      ]
    },
    {
      "cell_type": "code",
      "source": [
        "\n",
        "from pyspark.sql.functions import col, when, log, count, mean, stddev\n",
        "\n",
        "# Step 1: Prepare the data\n",
        "# Assuming df is already loaded and features are assembled into a feature vector column named \"features\"\n",
        "\n",
        "# Calculate priors\n",
        "class_counts = train_data.groupBy('label').count().collect()\n",
        "total_count = train_data.count()\n",
        "priors = {row['label']: row['count'] / total_count for row in class_counts}\n",
        "\n",
        "# Step 2: Calculate means and variances for each feature per class\n",
        "feature_stats = {}\n",
        "num_features = 57\n"
      ],
      "metadata": {
        "id": "AK9Ur39FzYC2"
      },
      "execution_count": null,
      "outputs": []
    },
    {
      "cell_type": "code",
      "source": [
        "num_features = 57  # Total number of features\n",
        "feature_stats = {}\n",
        "\n",
        "for label in priors.keys():\n",
        "    stats = []\n",
        "    for i in range(num_features):\n",
        "        # Note: Use the correct column names directly, which are 'feature_i' for each i\n",
        "        mean_col = mean(col(f'feature_{i}'))  # Calculate mean for feature_i\n",
        "        stddev_col = stddev(col(f'feature_{i}'))  # Calculate stddev for feature_i\n",
        "        # Filter rows by label, and calculate mean and stddev for the feature_i\n",
        "        group_stats = train_data.filter(col('label') == label).select(mean_col, stddev_col).first()\n",
        "        stats.append((group_stats[0], group_stats[1]))  # Append the results as a tuple\n",
        "    feature_stats[label] = stats  # Store the stats for each label\n",
        "\n",
        "\n",
        "\n"
      ],
      "metadata": {
        "id": "89lRzztAzjbx"
      },
      "execution_count": null,
      "outputs": []
    },
    {
      "cell_type": "code",
      "source": [
        "from pyspark.sql import Row\n",
        "# Step 3: Define a function to predict a single example\n",
        "def predict(features):\n",
        "    log_probs = {}\n",
        "    for label, class_prior in priors.items():\n",
        "        log_prob = np.log(class_prior)  # Start with the log of the prior\n",
        "        for i, feature in enumerate(features):\n",
        "            mean, std = feature_stats[label][i]\n",
        "            if std > 0:  # Check to avoid division by zero\n",
        "                # Apply Gaussian probability density function\n",
        "                log_prob -= 0.5 * np.log(2 * np.pi * std ** 2)\n",
        "                log_prob -= ((feature - mean) ** 2) / (2 * std ** 2)\n",
        "        log_probs[label] = log_prob\n",
        "    return max(log_probs, key=log_probs.get)\n",
        "\n",
        "def predict_features(row):\n",
        "    # Extract features from the row assuming individual columns 'feature_0' to 'feature_56'\n",
        "    features = [row[f'feature_{i}'] for i in range(57)]\n",
        "    prediction = predict(features)\n",
        "    return Row(label=row['label'], prediction=prediction)\n",
        "\n",
        "# Apply the model to the test data\n",
        "test_data_with_predictions = test_data.rdd.map(predict_features).toDF()\n",
        "\n",
        "# Step 5: Evaluate the model\n",
        "correct_predictions = test_data_with_predictions.filter(col('label') == col('prediction')).count()\n",
        "total_predictions = test_data_with_predictions.count()\n",
        "accuracy = correct_predictions / total_predictions\n",
        "print(f\"Custom Naive Bayes Accuracy: {accuracy:.2f}\")\n"
      ],
      "metadata": {
        "colab": {
          "base_uri": "https://localhost:8080/"
        },
        "id": "MbOq2DvO4RGV",
        "outputId": "85833c52-bc3b-4a9f-a44c-ab59be0d2394"
      },
      "execution_count": null,
      "outputs": [
        {
          "output_type": "stream",
          "name": "stdout",
          "text": [
            "Custom Naive Bayes Accuracy: 0.83\n"
          ]
        }
      ]
    },
    {
      "cell_type": "code",
      "source": [
        "# Calculate accuracy\n",
        "correct_predictions = test_data_with_predictions.filter(col('label') == col('prediction')).count()\n",
        "total_predictions = test_data_with_predictions.count()\n",
        "accuracy = correct_predictions / total_predictions\n",
        "print(f\"Accuracy: {accuracy:.2f}\")\n"
      ],
      "metadata": {
        "colab": {
          "base_uri": "https://localhost:8080/"
        },
        "id": "8s608SRa7le6",
        "outputId": "30d1ba4d-00d0-4cfa-8e00-7ce258c59573"
      },
      "execution_count": null,
      "outputs": [
        {
          "output_type": "stream",
          "name": "stdout",
          "text": [
            "Accuracy: 0.83\n"
          ]
        }
      ]
    },
    {
      "cell_type": "code",
      "source": [
        "test_data_with_predictions.printSchema()\n"
      ],
      "metadata": {
        "colab": {
          "base_uri": "https://localhost:8080/"
        },
        "id": "TCZh3oZy841r",
        "outputId": "7c1897e4-7c70-4e74-93a5-72d8b1cf9908"
      },
      "execution_count": null,
      "outputs": [
        {
          "output_type": "stream",
          "name": "stdout",
          "text": [
            "root\n",
            " |-- label: long (nullable = true)\n",
            " |-- prediction: long (nullable = true)\n",
            "\n"
          ]
        }
      ]
    },
    {
      "cell_type": "code",
      "source": [
        "pandas_df = test_data_with_predictions.toPandas()"
      ],
      "metadata": {
        "id": "c0WTaxb4Algs"
      },
      "execution_count": null,
      "outputs": []
    },
    {
      "cell_type": "code",
      "source": [
        "import seaborn as sns\n",
        "import matplotlib.pyplot as plt\n",
        "from sklearn.metrics import confusion_matrix\n",
        "\n",
        "# Calculate the confusion matrix\n",
        "conf_matrix = confusion_matrix(pandas_df['label'], pandas_df['prediction'])\n",
        "\n",
        "# Plot the confusion matrix using Seaborn\n",
        "plt.figure(figsize=(10, 7))\n",
        "sns.heatmap(conf_matrix, annot=True, fmt='d', cmap='Blues', cbar=False)\n",
        "plt.xlabel('Predicted Labels')\n",
        "plt.ylabel('True Labels')\n",
        "plt.title('Confusion Matrix')\n",
        "plt.show()"
      ],
      "metadata": {
        "colab": {
          "base_uri": "https://localhost:8080/",
          "height": 641
        },
        "id": "6M8-qtizAoP8",
        "outputId": "f841741a-2cb4-46fa-db10-6c784fcd1593"
      },
      "execution_count": null,
      "outputs": [
        {
          "output_type": "display_data",
          "data": {
            "text/plain": [
              "<Figure size 1000x700 with 1 Axes>"
            ],
            "image/png": "[encoded data removed]"
          },
          "metadata": {}
        }
      ]
    },
    {
      "cell_type": "code",
      "source": [
        "# Create a dataframe for plotting\n",
        "plot_df = pandas_df.groupby(['label', 'prediction']).size().reset_index(name='counts')\n",
        "\n",
        "# Plotting with Seaborn\n",
        "plt.figure(figsize=(10, 7))\n",
        "sns.barplot(x='label', y='counts', hue='prediction', data=plot_df)\n",
        "plt.title('Comparison of Actual vs. Predicted Classes')\n",
        "plt.xlabel('Actual Labels')\n",
        "plt.ylabel('Counts')\n",
        "plt.legend(title='Predicted Labels')\n",
        "plt.show()\n"
      ],
      "metadata": {
        "colab": {
          "base_uri": "https://localhost:8080/",
          "height": 641
        },
        "id": "QQrhfUS8AyWx",
        "outputId": "b85e51e5-96d0-4dc8-ced2-7e74fbcce040"
      },
      "execution_count": null,
      "outputs": [
        {
          "output_type": "display_data",
          "data": {
            "text/plain": [
              "<Figure size 1000x700 with 1 Axes>"
            ],
            "image/png": "[encoded data removed]"
          },
          "metadata": {}
        }
      ]
    },
    {
      "cell_type": "code",
      "source": [
        "###use pyspark bayes\n",
        "# # Define the Naive Bayes classifier\n",
        "# nb = NaiveBayes()\n",
        "\n",
        "# # Set up the pipeline\n",
        "# pipeline = Pipeline(stages=[assembler, scaler, nb])\n",
        "\n",
        "# # Train the model\n",
        "# model = pipeline.fit(train_data)\n"
      ],
      "metadata": {
        "id": "ufTZwLtKP57f"
      },
      "execution_count": null,
      "outputs": []
    },
    {
      "cell_type": "code",
      "source": [
        "# predictions = model.transform(test_data)\n",
        "# predictions.select(\"prediction\", \"label\", \"features\").show(5)\n",
        "\n",
        "# # Evaluate the model\n",
        "# evaluator = MulticlassClassificationEvaluator(labelCol=\"label\", predictionCol=\"prediction\", metricName=\"accuracy\")\n",
        "# accuracy = evaluator.evaluate(predictions)\n",
        "# print(f\"Test set accuracy = {accuracy:.2f}\")\n"
      ],
      "metadata": {
        "id": "Z1YppBlHQJUk"
      },
      "execution_count": null,
      "outputs": []
    }
  ]
}